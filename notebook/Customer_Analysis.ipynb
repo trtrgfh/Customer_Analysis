{
  "nbformat": 4,
  "nbformat_minor": 0,
  "metadata": {
    "colab": {
      "provenance": [],
      "authorship_tag": "ABX9TyP/SBWGPBlcHecugJ7Z5Ajt",
      "include_colab_link": true
    },
    "kernelspec": {
      "name": "python3",
      "display_name": "Python 3"
    },
    "language_info": {
      "name": "python"
    }
  },
  "cells": [
    {
      "cell_type": "markdown",
      "metadata": {
        "id": "view-in-github",
        "colab_type": "text"
      },
      "source": [
        "<a href=\"https://colab.research.google.com/github/trtrgfh/nQvq9cIZQdwmNjk7/blob/main/notebook/Customer_Analysis.ipynb\" target=\"_parent\"><img src=\"https://colab.research.google.com/assets/colab-badge.svg\" alt=\"Open In Colab\"/></a>"
      ]
    },
    {
      "cell_type": "code",
      "execution_count": 1,
      "metadata": {
        "id": "3wHfkCMWOUke"
      },
      "outputs": [],
      "source": [
        "import pandas as pd\n",
        "import matplotlib.pyplot as plt\n",
        "from sklearn.model_selection import train_test_split\n",
        "import numpy as np\n",
        "import xgboost as xgb\n",
        "from sklearn.model_selection import GridSearchCV\n",
        "from sklearn.metrics import confusion_matrix, ConfusionMatrixDisplay, precision_score, recall_score, accuracy_score, f1_score\n",
        "import pickle"
      ]
    },
    {
      "cell_type": "markdown",
      "source": [
        "# Make Dataset"
      ],
      "metadata": {
        "id": "28bPR8YrnvNB"
      }
    },
    {
      "cell_type": "code",
      "source": [
        "# %%writefile -a make_dataset.py\n",
        "\n",
        "url = \"https://raw.githubusercontent.com/trtrgfh/nQvq9cIZQdwmNjk7/main/data/ACME-HappinessSurvey2020.csv\"\n",
        "df = pd.read_csv(url)\n",
        "df.head()"
      ],
      "metadata": {
        "colab": {
          "base_uri": "https://localhost:8080/",
          "height": 206
        },
        "id": "Wz2al4ThPIpU",
        "outputId": "467cdd24-8d86-42a5-8407-ad424616ca8a"
      },
      "execution_count": 2,
      "outputs": [
        {
          "output_type": "execute_result",
          "data": {
            "text/plain": [
              "   Y  X1  X2  X3  X4  X5  X6\n",
              "0  0   3   3   3   4   2   4\n",
              "1  0   3   2   3   5   4   3\n",
              "2  1   5   3   3   3   3   5\n",
              "3  0   5   4   3   3   3   5\n",
              "4  0   5   4   3   3   3   5"
            ],
            "text/html": [
              "\n",
              "  <div id=\"df-ceaea9f2-7fc2-42d1-b423-2942bad12abd\">\n",
              "    <div class=\"colab-df-container\">\n",
              "      <div>\n",
              "<style scoped>\n",
              "    .dataframe tbody tr th:only-of-type {\n",
              "        vertical-align: middle;\n",
              "    }\n",
              "\n",
              "    .dataframe tbody tr th {\n",
              "        vertical-align: top;\n",
              "    }\n",
              "\n",
              "    .dataframe thead th {\n",
              "        text-align: right;\n",
              "    }\n",
              "</style>\n",
              "<table border=\"1\" class=\"dataframe\">\n",
              "  <thead>\n",
              "    <tr style=\"text-align: right;\">\n",
              "      <th></th>\n",
              "      <th>Y</th>\n",
              "      <th>X1</th>\n",
              "      <th>X2</th>\n",
              "      <th>X3</th>\n",
              "      <th>X4</th>\n",
              "      <th>X5</th>\n",
              "      <th>X6</th>\n",
              "    </tr>\n",
              "  </thead>\n",
              "  <tbody>\n",
              "    <tr>\n",
              "      <th>0</th>\n",
              "      <td>0</td>\n",
              "      <td>3</td>\n",
              "      <td>3</td>\n",
              "      <td>3</td>\n",
              "      <td>4</td>\n",
              "      <td>2</td>\n",
              "      <td>4</td>\n",
              "    </tr>\n",
              "    <tr>\n",
              "      <th>1</th>\n",
              "      <td>0</td>\n",
              "      <td>3</td>\n",
              "      <td>2</td>\n",
              "      <td>3</td>\n",
              "      <td>5</td>\n",
              "      <td>4</td>\n",
              "      <td>3</td>\n",
              "    </tr>\n",
              "    <tr>\n",
              "      <th>2</th>\n",
              "      <td>1</td>\n",
              "      <td>5</td>\n",
              "      <td>3</td>\n",
              "      <td>3</td>\n",
              "      <td>3</td>\n",
              "      <td>3</td>\n",
              "      <td>5</td>\n",
              "    </tr>\n",
              "    <tr>\n",
              "      <th>3</th>\n",
              "      <td>0</td>\n",
              "      <td>5</td>\n",
              "      <td>4</td>\n",
              "      <td>3</td>\n",
              "      <td>3</td>\n",
              "      <td>3</td>\n",
              "      <td>5</td>\n",
              "    </tr>\n",
              "    <tr>\n",
              "      <th>4</th>\n",
              "      <td>0</td>\n",
              "      <td>5</td>\n",
              "      <td>4</td>\n",
              "      <td>3</td>\n",
              "      <td>3</td>\n",
              "      <td>3</td>\n",
              "      <td>5</td>\n",
              "    </tr>\n",
              "  </tbody>\n",
              "</table>\n",
              "</div>\n",
              "      <button class=\"colab-df-convert\" onclick=\"convertToInteractive('df-ceaea9f2-7fc2-42d1-b423-2942bad12abd')\"\n",
              "              title=\"Convert this dataframe to an interactive table.\"\n",
              "              style=\"display:none;\">\n",
              "        \n",
              "  <svg xmlns=\"http://www.w3.org/2000/svg\" height=\"24px\"viewBox=\"0 0 24 24\"\n",
              "       width=\"24px\">\n",
              "    <path d=\"M0 0h24v24H0V0z\" fill=\"none\"/>\n",
              "    <path d=\"M18.56 5.44l.94 2.06.94-2.06 2.06-.94-2.06-.94-.94-2.06-.94 2.06-2.06.94zm-11 1L8.5 8.5l.94-2.06 2.06-.94-2.06-.94L8.5 2.5l-.94 2.06-2.06.94zm10 10l.94 2.06.94-2.06 2.06-.94-2.06-.94-.94-2.06-.94 2.06-2.06.94z\"/><path d=\"M17.41 7.96l-1.37-1.37c-.4-.4-.92-.59-1.43-.59-.52 0-1.04.2-1.43.59L10.3 9.45l-7.72 7.72c-.78.78-.78 2.05 0 2.83L4 21.41c.39.39.9.59 1.41.59.51 0 1.02-.2 1.41-.59l7.78-7.78 2.81-2.81c.8-.78.8-2.07 0-2.86zM5.41 20L4 18.59l7.72-7.72 1.47 1.35L5.41 20z\"/>\n",
              "  </svg>\n",
              "      </button>\n",
              "      \n",
              "  <style>\n",
              "    .colab-df-container {\n",
              "      display:flex;\n",
              "      flex-wrap:wrap;\n",
              "      gap: 12px;\n",
              "    }\n",
              "\n",
              "    .colab-df-convert {\n",
              "      background-color: #E8F0FE;\n",
              "      border: none;\n",
              "      border-radius: 50%;\n",
              "      cursor: pointer;\n",
              "      display: none;\n",
              "      fill: #1967D2;\n",
              "      height: 32px;\n",
              "      padding: 0 0 0 0;\n",
              "      width: 32px;\n",
              "    }\n",
              "\n",
              "    .colab-df-convert:hover {\n",
              "      background-color: #E2EBFA;\n",
              "      box-shadow: 0px 1px 2px rgba(60, 64, 67, 0.3), 0px 1px 3px 1px rgba(60, 64, 67, 0.15);\n",
              "      fill: #174EA6;\n",
              "    }\n",
              "\n",
              "    [theme=dark] .colab-df-convert {\n",
              "      background-color: #3B4455;\n",
              "      fill: #D2E3FC;\n",
              "    }\n",
              "\n",
              "    [theme=dark] .colab-df-convert:hover {\n",
              "      background-color: #434B5C;\n",
              "      box-shadow: 0px 1px 3px 1px rgba(0, 0, 0, 0.15);\n",
              "      filter: drop-shadow(0px 1px 2px rgba(0, 0, 0, 0.3));\n",
              "      fill: #FFFFFF;\n",
              "    }\n",
              "  </style>\n",
              "\n",
              "      <script>\n",
              "        const buttonEl =\n",
              "          document.querySelector('#df-ceaea9f2-7fc2-42d1-b423-2942bad12abd button.colab-df-convert');\n",
              "        buttonEl.style.display =\n",
              "          google.colab.kernel.accessAllowed ? 'block' : 'none';\n",
              "\n",
              "        async function convertToInteractive(key) {\n",
              "          const element = document.querySelector('#df-ceaea9f2-7fc2-42d1-b423-2942bad12abd');\n",
              "          const dataTable =\n",
              "            await google.colab.kernel.invokeFunction('convertToInteractive',\n",
              "                                                     [key], {});\n",
              "          if (!dataTable) return;\n",
              "\n",
              "          const docLinkHtml = 'Like what you see? Visit the ' +\n",
              "            '<a target=\"_blank\" href=https://colab.research.google.com/notebooks/data_table.ipynb>data table notebook</a>'\n",
              "            + ' to learn more about interactive tables.';\n",
              "          element.innerHTML = '';\n",
              "          dataTable['output_type'] = 'display_data';\n",
              "          await google.colab.output.renderOutput(dataTable, element);\n",
              "          const docLink = document.createElement('div');\n",
              "          docLink.innerHTML = docLinkHtml;\n",
              "          element.appendChild(docLink);\n",
              "        }\n",
              "      </script>\n",
              "    </div>\n",
              "  </div>\n",
              "  "
            ]
          },
          "metadata": {},
          "execution_count": 2
        }
      ]
    },
    {
      "cell_type": "code",
      "source": [
        "# %%writefile -a make_dataset.py\n",
        "\n",
        "print(f\"df shape: {df.shape}\")\n",
        "X = df.iloc[:, 1:]\n",
        "y = df[[\"Y\"]]\n",
        "X_train, X_test, y_train, y_test = train_test_split(X, y, test_size=0.15, random_state=42)\n",
        "print(f\"X_train shape: {X_train.shape}\")\n",
        "print(f\"X_test shape: {X_test.shape}\")\n",
        "print(f\"y_train shape: {y_train.shape}\")\n",
        "print(f\"y_test shape: {y_test.shape}\")"
      ],
      "metadata": {
        "colab": {
          "base_uri": "https://localhost:8080/"
        },
        "id": "QMW3xCFXRVYu",
        "outputId": "4b7305e9-d909-46cd-edef-0e1779108231"
      },
      "execution_count": 3,
      "outputs": [
        {
          "output_type": "stream",
          "name": "stdout",
          "text": [
            "df shape: (126, 7)\n",
            "X_train shape: (107, 6)\n",
            "X_test shape: (19, 6)\n",
            "y_train shape: (107, 1)\n",
            "y_test shape: (19, 1)\n"
          ]
        }
      ]
    },
    {
      "cell_type": "markdown",
      "source": [
        "# Train Model"
      ],
      "metadata": {
        "id": "3-vqI6sInzFu"
      }
    },
    {
      "cell_type": "code",
      "source": [
        "# %%writefile -a train_model.py\n",
        "\n",
        "model = xgb.XGBClassifier(learning_rate=0.3, gamma=0, reg_lambda=2, random_state=42)\n",
        "model.fit(X_train, y_train)\n",
        "\n",
        "# Save trained model\n",
        "with open('xgboost_model.pkl', 'wb') as file:\n",
        "    pickle.dump(model, file)"
      ],
      "metadata": {
        "id": "akHhWGL2Pe0Z"
      },
      "execution_count": 4,
      "outputs": []
    },
    {
      "cell_type": "code",
      "source": [
        "# %%writefile -a predict_model.py\n",
        "\n",
        "load_model = pickle.load(open(\"xgboost_model.pkl\", \"rb\"))\n",
        "pred_y = load_model.predict(X_train)\n",
        "pred_y_test = load_model.predict(X_test)"
      ],
      "metadata": {
        "id": "bZlzOGfgn1ii"
      },
      "execution_count": 5,
      "outputs": []
    },
    {
      "cell_type": "code",
      "source": [
        "# param_grid = {\n",
        "#     \"max_depth\": [5, 6, 7],\n",
        "#     \"learning_rate\": [0.1, 0.3],\n",
        "#     \"gamma\": [0, 0.15],\n",
        "#     \"reg_lambda\": [0, 2, 4],\n",
        "#     \"scale_pos_weight\": [1, 3],\n",
        "#     \"subsample\": [0.8, 1],\n",
        "#     \"colsample_bytree\": [0.5, 1],\n",
        "# }\n",
        "# grid_cv = GridSearchCV(model, param_grid, n_jobs=-1, cv=3, scoring=\"roc_auc\")\n",
        "\n",
        "# grid_cv.fit(X_train, y_train)"
      ],
      "metadata": {
        "id": "mxoQ0QtsWS66"
      },
      "execution_count": 6,
      "outputs": []
    },
    {
      "cell_type": "code",
      "source": [
        "# pred_y = grid_cv.predict(X_train)\n",
        "# pred_y_test = grid_cv.predict(X_test)"
      ],
      "metadata": {
        "id": "L-4N_Sgdge4c"
      },
      "execution_count": 7,
      "outputs": []
    },
    {
      "cell_type": "code",
      "source": [
        "# %%writefile -a predict_model.py\n",
        "\n",
        "# Calculate metrics for training set\n",
        "print(f\"Train_Precision: {precision_score(y_train, pred_y)}\")\n",
        "print(f\"Train_Recall: {recall_score(y_train, pred_y)}\")\n",
        "print(f\"Train_Accuracy: {accuracy_score(y_train, pred_y)}\")\n",
        "print(f\"Train_F1score: {f1_score(y_train, pred_y)}\")\n",
        "\n",
        "# Calculate metrics for testing set\n",
        "print(f\"Test_Precision: {precision_score(y_test, pred_y_test)}\")\n",
        "print(f\"Test_Recall: {recall_score(y_test, pred_y_test)}\")\n",
        "print(f\"Test_Accuracy: {accuracy_score(y_test, pred_y_test)}\")\n",
        "print(f\"Test_F1score: {f1_score(y_test, pred_y_test)}\")"
      ],
      "metadata": {
        "id": "P__z4MjgRhMK",
        "colab": {
          "base_uri": "https://localhost:8080/"
        },
        "outputId": "df8e9941-511d-4a34-cf78-e2a031b373ec"
      },
      "execution_count": 8,
      "outputs": [
        {
          "output_type": "stream",
          "name": "stdout",
          "text": [
            "Train_Precision: 0.8939393939393939\n",
            "Train_Recall: 0.9833333333333333\n",
            "Train_Accuracy: 0.9252336448598131\n",
            "Train_F1score: 0.9365079365079364\n",
            "Test_Precision: 0.5833333333333334\n",
            "Test_Recall: 0.7777777777777778\n",
            "Test_Accuracy: 0.631578947368421\n",
            "Test_F1score: 0.6666666666666666\n"
          ]
        }
      ]
    },
    {
      "cell_type": "code",
      "source": [
        "# %%writefile -a visualize.py\n",
        "\n",
        "# Plot confusion matrix for training\n",
        "cm = confusion_matrix(y_train, pred_y)\n",
        "disp_cm = ConfusionMatrixDisplay(confusion_matrix=cm)\n",
        "disp_cm.plot()\n",
        "plt.title(\"Confusion Matrix for Training set\")\n",
        "plt.savefig('figure1.png', bbox_inches='tight')\n",
        "plt.show()"
      ],
      "metadata": {
        "id": "aWbZD0f9o1is",
        "outputId": "f2921f99-076a-42c5-edf4-2d78cc1f4cb4",
        "colab": {
          "base_uri": "https://localhost:8080/",
          "height": 472
        }
      },
      "execution_count": 9,
      "outputs": [
        {
          "output_type": "display_data",
          "data": {
            "text/plain": [
              "<Figure size 640x480 with 2 Axes>"
            ],
            "image/png": "[encoded data removed]"
          },
          "metadata": {}
        }
      ]
    },
    {
      "cell_type": "code",
      "source": [
        "# %%writefile -a visualize.py\n",
        "\n",
        "# Plot confusion matrix for testing\n",
        "cm_test = confusion_matrix(y_test, pred_y_test)\n",
        "disp_cm_test = ConfusionMatrixDisplay(confusion_matrix=cm_test)\n",
        "disp_cm_test.plot()\n",
        "plt.title(\"Confusion Matrix for Testing set\")\n",
        "plt.savefig('figure2.png', bbox_inches='tight')\n",
        "plt.show()"
      ],
      "metadata": {
        "colab": {
          "base_uri": "https://localhost:8080/",
          "height": 472
        },
        "id": "H-m687bVdSrQ",
        "outputId": "c4001a09-f18b-4783-dd7d-f27d064f3955"
      },
      "execution_count": 10,
      "outputs": [
        {
          "output_type": "display_data",
          "data": {
            "text/plain": [
              "<Figure size 640x480 with 2 Axes>"
            ],
            "image/png": "[encoded data removed]"
          },
          "metadata": {}
        }
      ]
    },
    {
      "cell_type": "markdown",
      "source": [
        "# Feature Selection Approach"
      ],
      "metadata": {
        "id": "6M734MV1xlKw"
      }
    },
    {
      "cell_type": "code",
      "source": [
        "# %%writefile -a visualize.py\n",
        "\n",
        "im_features = model.feature_importances_\n",
        "plt.bar(range(len(im_features)), im_features)\n",
        "plt.xlabel(\"Features\")\n",
        "plt.ylabel(\"Importance\")\n",
        "plt.title(\"Feature Importances\")\n",
        "plt.xticks(range(len(im_features)), [\"X1\", \"X2\", \"X3\", \"X4\", \"X5\", \"X6\"])\n",
        "plt.savefig('figure3.png', bbox_inches='tight')\n",
        "plt.show()"
      ],
      "metadata": {
        "id": "81NFzN-ovFNi",
        "outputId": "46e3bab9-71fa-4304-873c-9021bee0d670",
        "colab": {
          "base_uri": "https://localhost:8080/",
          "height": 472
        }
      },
      "execution_count": 11,
      "outputs": [
        {
          "output_type": "display_data",
          "data": {
            "text/plain": [
              "<Figure size 640x480 with 1 Axes>"
            ],
            "image/png": "[encoded data removed]"
          },
          "metadata": {}
        }
      ]
    },
    {
      "cell_type": "code",
      "source": [
        "# %%writefile -a make_dataset.py\n",
        "\n",
        "print(\"The corrlelation between the features Xi and target Y\")\n",
        "df.corr().iloc[0]"
      ],
      "metadata": {
        "id": "dts1amqyQO0r",
        "colab": {
          "base_uri": "https://localhost:8080/"
        },
        "outputId": "baa17856-80b9-4e22-b937-513435155a94"
      },
      "execution_count": 12,
      "outputs": [
        {
          "output_type": "stream",
          "name": "stdout",
          "text": [
            "The corrlelation between the features Xi and target Y\n"
          ]
        },
        {
          "output_type": "execute_result",
          "data": {
            "text/plain": [
              "Y     1.000000\n",
              "X1    0.280160\n",
              "X2   -0.024274\n",
              "X3    0.150838\n",
              "X4    0.064415\n",
              "X5    0.224522\n",
              "X6    0.167669\n",
              "Name: Y, dtype: float64"
            ]
          },
          "metadata": {},
          "execution_count": 12
        }
      ]
    },
    {
      "cell_type": "code",
      "source": [
        "# %%writefile -a make_dataset.py\n",
        "\n",
        "df2 = df.drop([\"X2\", \"X4\"], axis=1)\n",
        "# df2 = df.drop([\"X2\", \"X3\"], axis=1)"
      ],
      "metadata": {
        "id": "B2wEZGVGhCfP"
      },
      "execution_count": 13,
      "outputs": []
    },
    {
      "cell_type": "code",
      "source": [
        "# %%writefile -a make_dataset.py\n",
        "\n",
        "X2 = df2.iloc[:, 1:]\n",
        "y2 = df2[[\"Y\"]]\n",
        "X_train2, X_test2, y_train2, y_test2 = train_test_split(X2, y2, test_size=0.15, random_state=42)\n",
        "print(f\"X_train shape: {X_train2.shape}\")\n",
        "print(f\"X_test shape: {X_test2.shape}\")\n",
        "print(f\"y_train shape: {y_train2.shape}\")\n",
        "print(f\"y_test shape: {y_test2.shape}\")"
      ],
      "metadata": {
        "colab": {
          "base_uri": "https://localhost:8080/"
        },
        "id": "uFV28QGwjEfk",
        "outputId": "980619bf-37db-4d7b-96b3-d14c1bc8fd52"
      },
      "execution_count": 14,
      "outputs": [
        {
          "output_type": "stream",
          "name": "stdout",
          "text": [
            "X_train shape: (107, 4)\n",
            "X_test shape: (19, 4)\n",
            "y_train shape: (107, 1)\n",
            "y_test shape: (19, 1)\n"
          ]
        }
      ]
    },
    {
      "cell_type": "code",
      "source": [
        "# %%writefile -a train_model.py\n",
        "\n",
        "new_model = xgb.XGBClassifier(learning_rate=0.3, gamma=0, reg_lambda=2, random_state=42)\n",
        "new_model.fit(X_train2, y_train2)\n",
        "\n",
        "# Save trained new_model\n",
        "with open('xgboost_new_model.pkl', 'wb') as file:\n",
        "    pickle.dump(new_model, file)"
      ],
      "metadata": {
        "id": "S8ySZ4thjE1R"
      },
      "execution_count": 15,
      "outputs": []
    },
    {
      "cell_type": "code",
      "source": [
        "# %%writefile -a predict_model.py\n",
        "\n",
        "load_new_model = pickle.load(open(\"xgboost_new_model.pkl\", \"rb\"))\n",
        "pred_y2 = load_new_model.predict(X_train2)\n",
        "pred_y_test2 = load_new_model.predict(X_test2)"
      ],
      "metadata": {
        "id": "uhEJaFfFsOD1"
      },
      "execution_count": 16,
      "outputs": []
    },
    {
      "cell_type": "code",
      "source": [
        "# %%writefile -a train_model.py\n",
        "\n",
        "# Calculate metrics for training set\n",
        "print(\"Training\")\n",
        "print(f\"Train_Precision: {precision_score(y_train2, pred_y2)}\")\n",
        "print(f\"Train_Recall: {recall_score(y_train2, pred_y2)}\")\n",
        "print(f\"Train_Accuracy: {accuracy_score(y_train2, pred_y2)}\")\n",
        "print(f\"Train_F1score: {f1_score(y_train2, pred_y2)}\")\n",
        "\n",
        "# Calculate metrics for testing set\n",
        "print(\"Testing\")\n",
        "print(f\"Test_Precision: {precision_score(y_test2, pred_y_test2)}\")\n",
        "print(f\"Test_Recall: {recall_score(y_test2, pred_y_test2)}\")\n",
        "print(f\"Test_Accuracy: {accuracy_score(y_test2, pred_y_test2)}\")\n",
        "print(f\"Test_F1score: {f1_score(y_test2, pred_y_test2)}\")"
      ],
      "metadata": {
        "id": "5KB7jtFKjKrw",
        "colab": {
          "base_uri": "https://localhost:8080/"
        },
        "outputId": "acd70c76-dcf9-45b4-9241-1f4c9ae1a284"
      },
      "execution_count": 17,
      "outputs": [
        {
          "output_type": "stream",
          "name": "stdout",
          "text": [
            "Training\n",
            "Train_Precision: 0.7887323943661971\n",
            "Train_Recall: 0.9333333333333333\n",
            "Train_Accuracy: 0.822429906542056\n",
            "Train_F1score: 0.8549618320610686\n",
            "Testing\n",
            "Test_Precision: 0.7272727272727273\n",
            "Test_Recall: 0.8888888888888888\n",
            "Test_Accuracy: 0.7894736842105263\n",
            "Test_F1score: 0.7999999999999999\n"
          ]
        }
      ]
    }
  ]
}