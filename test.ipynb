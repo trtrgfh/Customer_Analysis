{
  "nbformat": 4,
  "nbformat_minor": 0,
  "metadata": {
    "colab": {
      "provenance": [],
      "authorship_tag": "ABX9TyMYhfyqVtxz+TffO2iDA3NM",
      "include_colab_link": true
    },
    "kernelspec": {
      "name": "python3",
      "display_name": "Python 3"
    },
    "language_info": {
      "name": "python"
    }
  },
  "cells": [
    {
      "cell_type": "markdown",
      "metadata": {
        "id": "view-in-github",
        "colab_type": "text"
      },
      "source": [
        "<a href=\"https://colab.research.google.com/github/trtrgfh/nQvq9cIZQdwmNjk7/blob/main/test.ipynb\" target=\"_parent\"><img src=\"https://colab.research.google.com/assets/colab-badge.svg\" alt=\"Open In Colab\"/></a>"
      ]
    },
    {
      "cell_type": "code",
      "execution_count": 47,
      "metadata": {
        "id": "3wHfkCMWOUke"
      },
      "outputs": [],
      "source": [
        "import pandas as pd\n",
        "import matplotlib.pyplot as plt\n",
        "from sklearn.model_selection import train_test_split\n",
        "import numpy as np\n",
        "import xgboost as xgb\n",
        "from sklearn.model_selection import GridSearchCV\n",
        "from sklearn.metrics import confusion_matrix, ConfusionMatrixDisplay, precision_score, recall_score, accuracy_score, f1_score\n",
        "import pickle"
      ]
    },
    {
      "cell_type": "code",
      "source": [
        "url = \"https://raw.githubusercontent.com/trtrgfh/nQvq9cIZQdwmNjk7/main/data/ACME-HappinessSurvey2020.csv\"\n",
        "df = pd.read_csv(url)\n",
        "df.head()"
      ],
      "metadata": {
        "colab": {
          "base_uri": "https://localhost:8080/",
          "height": 206
        },
        "id": "Wz2al4ThPIpU",
        "outputId": "ac7531b0-b19e-4737-8f00-8c8279019c57"
      },
      "execution_count": 16,
      "outputs": [
        {
          "output_type": "execute_result",
          "data": {
            "text/plain": [
              "   Y  X1  X2  X3  X4  X5  X6\n",
              "0  0   3   3   3   4   2   4\n",
              "1  0   3   2   3   5   4   3\n",
              "2  1   5   3   3   3   3   5\n",
              "3  0   5   4   3   3   3   5\n",
              "4  0   5   4   3   3   3   5"
            ],
            "text/html": [
              "\n",
              "  <div id=\"df-5a0ce288-72c7-4f4f-8506-c0386de92d48\">\n",
              "    <div class=\"colab-df-container\">\n",
              "      <div>\n",
              "<style scoped>\n",
              "    .dataframe tbody tr th:only-of-type {\n",
              "        vertical-align: middle;\n",
              "    }\n",
              "\n",
              "    .dataframe tbody tr th {\n",
              "        vertical-align: top;\n",
              "    }\n",
              "\n",
              "    .dataframe thead th {\n",
              "        text-align: right;\n",
              "    }\n",
              "</style>\n",
              "<table border=\"1\" class=\"dataframe\">\n",
              "  <thead>\n",
              "    <tr style=\"text-align: right;\">\n",
              "      <th></th>\n",
              "      <th>Y</th>\n",
              "      <th>X1</th>\n",
              "      <th>X2</th>\n",
              "      <th>X3</th>\n",
              "      <th>X4</th>\n",
              "      <th>X5</th>\n",
              "      <th>X6</th>\n",
              "    </tr>\n",
              "  </thead>\n",
              "  <tbody>\n",
              "    <tr>\n",
              "      <th>0</th>\n",
              "      <td>0</td>\n",
              "      <td>3</td>\n",
              "      <td>3</td>\n",
              "      <td>3</td>\n",
              "      <td>4</td>\n",
              "      <td>2</td>\n",
              "      <td>4</td>\n",
              "    </tr>\n",
              "    <tr>\n",
              "      <th>1</th>\n",
              "      <td>0</td>\n",
              "      <td>3</td>\n",
              "      <td>2</td>\n",
              "      <td>3</td>\n",
              "      <td>5</td>\n",
              "      <td>4</td>\n",
              "      <td>3</td>\n",
              "    </tr>\n",
              "    <tr>\n",
              "      <th>2</th>\n",
              "      <td>1</td>\n",
              "      <td>5</td>\n",
              "      <td>3</td>\n",
              "      <td>3</td>\n",
              "      <td>3</td>\n",
              "      <td>3</td>\n",
              "      <td>5</td>\n",
              "    </tr>\n",
              "    <tr>\n",
              "      <th>3</th>\n",
              "      <td>0</td>\n",
              "      <td>5</td>\n",
              "      <td>4</td>\n",
              "      <td>3</td>\n",
              "      <td>3</td>\n",
              "      <td>3</td>\n",
              "      <td>5</td>\n",
              "    </tr>\n",
              "    <tr>\n",
              "      <th>4</th>\n",
              "      <td>0</td>\n",
              "      <td>5</td>\n",
              "      <td>4</td>\n",
              "      <td>3</td>\n",
              "      <td>3</td>\n",
              "      <td>3</td>\n",
              "      <td>5</td>\n",
              "    </tr>\n",
              "  </tbody>\n",
              "</table>\n",
              "</div>\n",
              "      <button class=\"colab-df-convert\" onclick=\"convertToInteractive('df-5a0ce288-72c7-4f4f-8506-c0386de92d48')\"\n",
              "              title=\"Convert this dataframe to an interactive table.\"\n",
              "              style=\"display:none;\">\n",
              "        \n",
              "  <svg xmlns=\"http://www.w3.org/2000/svg\" height=\"24px\"viewBox=\"0 0 24 24\"\n",
              "       width=\"24px\">\n",
              "    <path d=\"M0 0h24v24H0V0z\" fill=\"none\"/>\n",
              "    <path d=\"M18.56 5.44l.94 2.06.94-2.06 2.06-.94-2.06-.94-.94-2.06-.94 2.06-2.06.94zm-11 1L8.5 8.5l.94-2.06 2.06-.94-2.06-.94L8.5 2.5l-.94 2.06-2.06.94zm10 10l.94 2.06.94-2.06 2.06-.94-2.06-.94-.94-2.06-.94 2.06-2.06.94z\"/><path d=\"M17.41 7.96l-1.37-1.37c-.4-.4-.92-.59-1.43-.59-.52 0-1.04.2-1.43.59L10.3 9.45l-7.72 7.72c-.78.78-.78 2.05 0 2.83L4 21.41c.39.39.9.59 1.41.59.51 0 1.02-.2 1.41-.59l7.78-7.78 2.81-2.81c.8-.78.8-2.07 0-2.86zM5.41 20L4 18.59l7.72-7.72 1.47 1.35L5.41 20z\"/>\n",
              "  </svg>\n",
              "      </button>\n",
              "      \n",
              "  <style>\n",
              "    .colab-df-container {\n",
              "      display:flex;\n",
              "      flex-wrap:wrap;\n",
              "      gap: 12px;\n",
              "    }\n",
              "\n",
              "    .colab-df-convert {\n",
              "      background-color: #E8F0FE;\n",
              "      border: none;\n",
              "      border-radius: 50%;\n",
              "      cursor: pointer;\n",
              "      display: none;\n",
              "      fill: #1967D2;\n",
              "      height: 32px;\n",
              "      padding: 0 0 0 0;\n",
              "      width: 32px;\n",
              "    }\n",
              "\n",
              "    .colab-df-convert:hover {\n",
              "      background-color: #E2EBFA;\n",
              "      box-shadow: 0px 1px 2px rgba(60, 64, 67, 0.3), 0px 1px 3px 1px rgba(60, 64, 67, 0.15);\n",
              "      fill: #174EA6;\n",
              "    }\n",
              "\n",
              "    [theme=dark] .colab-df-convert {\n",
              "      background-color: #3B4455;\n",
              "      fill: #D2E3FC;\n",
              "    }\n",
              "\n",
              "    [theme=dark] .colab-df-convert:hover {\n",
              "      background-color: #434B5C;\n",
              "      box-shadow: 0px 1px 3px 1px rgba(0, 0, 0, 0.15);\n",
              "      filter: drop-shadow(0px 1px 2px rgba(0, 0, 0, 0.3));\n",
              "      fill: #FFFFFF;\n",
              "    }\n",
              "  </style>\n",
              "\n",
              "      <script>\n",
              "        const buttonEl =\n",
              "          document.querySelector('#df-5a0ce288-72c7-4f4f-8506-c0386de92d48 button.colab-df-convert');\n",
              "        buttonEl.style.display =\n",
              "          google.colab.kernel.accessAllowed ? 'block' : 'none';\n",
              "\n",
              "        async function convertToInteractive(key) {\n",
              "          const element = document.querySelector('#df-5a0ce288-72c7-4f4f-8506-c0386de92d48');\n",
              "          const dataTable =\n",
              "            await google.colab.kernel.invokeFunction('convertToInteractive',\n",
              "                                                     [key], {});\n",
              "          if (!dataTable) return;\n",
              "\n",
              "          const docLinkHtml = 'Like what you see? Visit the ' +\n",
              "            '<a target=\"_blank\" href=https://colab.research.google.com/notebooks/data_table.ipynb>data table notebook</a>'\n",
              "            + ' to learn more about interactive tables.';\n",
              "          element.innerHTML = '';\n",
              "          dataTable['output_type'] = 'display_data';\n",
              "          await google.colab.output.renderOutput(dataTable, element);\n",
              "          const docLink = document.createElement('div');\n",
              "          docLink.innerHTML = docLinkHtml;\n",
              "          element.appendChild(docLink);\n",
              "        }\n",
              "      </script>\n",
              "    </div>\n",
              "  </div>\n",
              "  "
            ]
          },
          "metadata": {},
          "execution_count": 16
        }
      ]
    },
    {
      "cell_type": "code",
      "source": [
        "print(f\"df shape: {df.shape}\")\n",
        "X = df.iloc[:, 1:]\n",
        "y = df[[\"Y\"]]\n",
        "X_train, X_test, y_train, y_test = train_test_split(X, y, test_size=0.15, random_state=42)\n",
        "print(f\"X_train shape: {X_train.shape}\")\n",
        "print(f\"X_test shape: {X_test.shape}\")\n",
        "print(f\"y_train shape: {y_train.shape}\")\n",
        "print(f\"y_test shape: {y_test.shape}\")"
      ],
      "metadata": {
        "colab": {
          "base_uri": "https://localhost:8080/"
        },
        "id": "QMW3xCFXRVYu",
        "outputId": "55f9e1ca-78a2-44b1-e72e-7d8242fd7283"
      },
      "execution_count": 17,
      "outputs": [
        {
          "output_type": "stream",
          "name": "stdout",
          "text": [
            "df shape: (126, 7)\n",
            "X_train shape: (107, 6)\n",
            "X_test shape: (19, 6)\n",
            "y_train shape: (107, 1)\n",
            "y_test shape: (19, 1)\n"
          ]
        }
      ]
    },
    {
      "cell_type": "code",
      "source": [
        "model = xgb.XGBClassifier(learning_rate=0.3, gamma=0, reg_lambda=2, random_state=42)\n",
        "model.fit(X_train, y_train)\n",
        "pred_y = model.predict(X_train)\n",
        "pred_y_test = model.predict(X_test)"
      ],
      "metadata": {
        "id": "akHhWGL2Pe0Z"
      },
      "execution_count": 18,
      "outputs": []
    },
    {
      "cell_type": "code",
      "source": [
        "with open('xgboost_model.pkl', 'wb') as file:\n",
        "    pickle.dump(model, file)"
      ],
      "metadata": {
        "id": "Tl52IQfAgxCR"
      },
      "execution_count": 48,
      "outputs": []
    },
    {
      "cell_type": "code",
      "source": [
        "# param_grid = {\n",
        "#     \"max_depth\": [5, 6, 7],\n",
        "#     \"learning_rate\": [0.1, 0.3],\n",
        "#     \"gamma\": [0, 0.15],\n",
        "#     \"reg_lambda\": [0, 2, 4],\n",
        "#     \"scale_pos_weight\": [1, 3],\n",
        "#     \"subsample\": [0.8, 1],\n",
        "#     \"colsample_bytree\": [0.5, 1],\n",
        "# }\n",
        "# grid_cv = GridSearchCV(model, param_grid, n_jobs=-1, cv=3, scoring=\"roc_auc\")\n",
        "\n",
        "# grid_cv.fit(X_train, y_train)"
      ],
      "metadata": {
        "id": "mxoQ0QtsWS66"
      },
      "execution_count": 19,
      "outputs": []
    },
    {
      "cell_type": "code",
      "source": [
        "# pred_y = grid_cv.predict(X_train)\n",
        "# pred_y_test = grid_cv.predict(X_test)"
      ],
      "metadata": {
        "id": "L-4N_Sgdge4c"
      },
      "execution_count": 20,
      "outputs": []
    },
    {
      "cell_type": "code",
      "source": [
        "# Plot confusion matrix and calculate metrics for training set\n",
        "print(f\"Train_Precision: {precision_score(y_train, pred_y)}\")\n",
        "print(f\"Train_Recall: {recall_score(y_train, pred_y)}\")\n",
        "print(f\"Train_Accuracy: {accuracy_score(y_train, pred_y)}\")\n",
        "print(f\"Train_F1score: {f1_score(y_train, pred_y)}\")\n",
        "cm = confusion_matrix(y_train, pred_y)\n",
        "disp_cm = ConfusionMatrixDisplay(confusion_matrix=cm)\n",
        "disp_cm.plot()\n",
        "plt.title(\"Confusion Matrix for Training set\")\n",
        "plt.show()"
      ],
      "metadata": {
        "id": "P__z4MjgRhMK",
        "outputId": "76244c48-2f67-4244-c01d-926b1d6ce4f2",
        "colab": {
          "base_uri": "https://localhost:8080/",
          "height": 543
        }
      },
      "execution_count": 36,
      "outputs": [
        {
          "output_type": "stream",
          "name": "stdout",
          "text": [
            "Train_Precision: 0.8939393939393939\n",
            "Train_Recall: 0.9833333333333333\n",
            "Train_Accuracy: 0.9252336448598131\n",
            "Train_F1score: 0.9365079365079364\n"
          ]
        },
        {
          "output_type": "display_data",
          "data": {
            "text/plain": [
              "<Figure size 640x480 with 2 Axes>"
            ],
            "image/png": "[encoded data removed]"
          },
          "metadata": {}
        }
      ]
    },
    {
      "cell_type": "code",
      "source": [
        "# Plot confusion matrix and calculate metrics for testing set\n",
        "print(f\"Test_Precision: {precision_score(y_test, pred_y_test)}\")\n",
        "print(f\"Test_Recall: {recall_score(y_test, pred_y_test)}\")\n",
        "print(f\"Test_Accuracy: {accuracy_score(y_test, pred_y_test)}\")\n",
        "print(f\"Test_F1score: {f1_score(y_test, pred_y_test)}\")\n",
        "cm_test = confusion_matrix(y_test, pred_y_test)\n",
        "disp_cm_test = ConfusionMatrixDisplay(confusion_matrix=cm_test)\n",
        "disp_cm_test.plot()\n",
        "plt.title(\"Confusion Matrix for Testing set\")\n",
        "plt.show()"
      ],
      "metadata": {
        "id": "H-m687bVdSrQ",
        "outputId": "3d03c134-1305-4782-8971-f6a160a2e885",
        "colab": {
          "base_uri": "https://localhost:8080/",
          "height": 526
        }
      },
      "execution_count": 33,
      "outputs": [
        {
          "output_type": "stream",
          "name": "stdout",
          "text": [
            "Test_Precision: 0.5833333333333334\n",
            "Test_Recall: 0.7777777777777778\n",
            "Test_Accuracy: 0.631578947368421\n",
            "Test_F1score: 0.6666666666666666\n"
          ]
        },
        {
          "output_type": "display_data",
          "data": {
            "text/plain": [
              "<Figure size 640x480 with 2 Axes>"
            ],
            "image/png": "[encoded data removed]"
          },
          "metadata": {}
        }
      ]
    },
    {
      "cell_type": "markdown",
      "source": [
        "# Feature Selection Approach"
      ],
      "metadata": {
        "id": "6M734MV1xlKw"
      }
    },
    {
      "cell_type": "code",
      "source": [
        "im_features = model.feature_importances_\n",
        "plt.bar(range(len(im_features)), im_features)\n",
        "plt.xlabel(\"Features\")\n",
        "plt.ylabel(\"Importance\")\n",
        "plt.title(\"Feature Importances\")\n",
        "plt.xticks(range(len(im_features)), [\"X1\", \"X2\", \"X3\", \"X4\", \"X5\", \"X6\"])\n",
        "plt.show()"
      ],
      "metadata": {
        "id": "81NFzN-ovFNi",
        "outputId": "a32ea7cb-43a5-43c6-e60f-46e6422a0705",
        "colab": {
          "base_uri": "https://localhost:8080/",
          "height": 472
        }
      },
      "execution_count": 37,
      "outputs": [
        {
          "output_type": "display_data",
          "data": {
            "text/plain": [
              "<Figure size 640x480 with 1 Axes>"
            ],
            "image/png": "[encoded data removed]"
          },
          "metadata": {}
        }
      ]
    },
    {
      "cell_type": "code",
      "source": [
        "print(\"The corrlelation between the features Xi and target Y\")\n",
        "df.corr().iloc[0]"
      ],
      "metadata": {
        "id": "dts1amqyQO0r",
        "colab": {
          "base_uri": "https://localhost:8080/"
        },
        "outputId": "991f2578-2c32-468f-bcec-a74cad07fa4e"
      },
      "execution_count": 38,
      "outputs": [
        {
          "output_type": "stream",
          "name": "stdout",
          "text": [
            "The corrlelation between the features Xi and target Y\n"
          ]
        },
        {
          "output_type": "execute_result",
          "data": {
            "text/plain": [
              "Y     1.000000\n",
              "X1    0.280160\n",
              "X2   -0.024274\n",
              "X3    0.150838\n",
              "X4    0.064415\n",
              "X5    0.224522\n",
              "X6    0.167669\n",
              "Name: Y, dtype: float64"
            ]
          },
          "metadata": {},
          "execution_count": 38
        }
      ]
    },
    {
      "cell_type": "code",
      "source": [
        "df = df.drop([\"X2\", \"X4\"], axis=1)\n",
        "# df = df.drop([\"X2\", \"X3\"], axis=1)"
      ],
      "metadata": {
        "id": "B2wEZGVGhCfP"
      },
      "execution_count": 39,
      "outputs": []
    },
    {
      "cell_type": "code",
      "source": [
        "X = df.iloc[:, 1:]\n",
        "y = df[[\"Y\"]]\n",
        "X_train, X_test, y_train, y_test = train_test_split(X, y, test_size=0.15, random_state=42)\n",
        "print(f\"X_train shape: {X_train.shape}\")\n",
        "print(f\"X_test shape: {X_test.shape}\")\n",
        "print(f\"y_train shape: {y_train.shape}\")\n",
        "print(f\"y_test shape: {y_test.shape}\")"
      ],
      "metadata": {
        "colab": {
          "base_uri": "https://localhost:8080/"
        },
        "id": "uFV28QGwjEfk",
        "outputId": "0950f31c-d6ef-4fdd-ba9b-562fd00e6219"
      },
      "execution_count": 40,
      "outputs": [
        {
          "output_type": "stream",
          "name": "stdout",
          "text": [
            "X_train shape: (107, 4)\n",
            "X_test shape: (19, 4)\n",
            "y_train shape: (107, 1)\n",
            "y_test shape: (19, 1)\n"
          ]
        }
      ]
    },
    {
      "cell_type": "code",
      "source": [
        "model = xgb.XGBClassifier(learning_rate=0.3, gamma=0, reg_lambda=2, random_state=42)\n",
        "model.fit(X_train, y_train)\n",
        "pred_y = model.predict(X_train)\n",
        "pred_y_test = model.predict(X_test)"
      ],
      "metadata": {
        "id": "S8ySZ4thjE1R"
      },
      "execution_count": 41,
      "outputs": []
    },
    {
      "cell_type": "code",
      "source": [
        "with open('featured_xgboost_model.pkl', 'wb') as file:\n",
        "    pickle.dump(model, file)"
      ],
      "metadata": {
        "id": "NFSr5MNPhlsZ"
      },
      "execution_count": 49,
      "outputs": []
    },
    {
      "cell_type": "code",
      "source": [
        "# Calculate metrics for training set\n",
        "print(f\"Train_Precision: {precision_score(y_train, pred_y)}\")\n",
        "print(f\"Train_Recall: {recall_score(y_train, pred_y)}\")\n",
        "print(f\"Train_Accuracy: {accuracy_score(y_train, pred_y)}\")\n",
        "print(f\"Train_F1score: {f1_score(y_train, pred_y)}\")"
      ],
      "metadata": {
        "id": "5KB7jtFKjKrw",
        "outputId": "34674438-5797-4c07-b9a1-9fe8b3d54610",
        "colab": {
          "base_uri": "https://localhost:8080/"
        }
      },
      "execution_count": 44,
      "outputs": [
        {
          "output_type": "stream",
          "name": "stdout",
          "text": [
            "Train_Precision: 0.7887323943661971\n",
            "Train_Recall: 0.9333333333333333\n",
            "Train_Accuracy: 0.822429906542056\n",
            "Train_F1score: 0.8549618320610686\n"
          ]
        }
      ]
    },
    {
      "cell_type": "code",
      "source": [
        "# Calculate metrics for testing set\n",
        "print(f\"Test_Precision: {precision_score(y_test, pred_y_test)}\")\n",
        "print(f\"Test_Recall: {recall_score(y_test, pred_y_test)}\")\n",
        "print(f\"Test_Accuracy: {accuracy_score(y_test, pred_y_test)}\")\n",
        "print(f\"Test_F1score: {f1_score(y_test, pred_y_test)}\")"
      ],
      "metadata": {
        "id": "RT3IigEgf0tF",
        "outputId": "107e7548-5071-41df-b02d-696404d8081d",
        "colab": {
          "base_uri": "https://localhost:8080/"
        }
      },
      "execution_count": 45,
      "outputs": [
        {
          "output_type": "stream",
          "name": "stdout",
          "text": [
            "Test_Precision: 0.7272727272727273\n",
            "Test_Recall: 0.8888888888888888\n",
            "Test_Accuracy: 0.7894736842105263\n",
            "Test_F1score: 0.7999999999999999\n"
          ]
        }
      ]
    },
    {
      "cell_type": "code",
      "source": [],
      "metadata": {
        "id": "RB0u07azgZ22"
      },
      "execution_count": null,
      "outputs": []
    }
  ]
}